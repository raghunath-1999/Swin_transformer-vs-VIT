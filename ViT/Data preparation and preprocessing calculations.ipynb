{
 "cells": [
  {
   "cell_type": "code",
   "execution_count": 4,
   "id": "7b777084",
   "metadata": {},
   "outputs": [],
   "source": [
    "import os\n",
    "import random\n",
    "import shutil\n",
    "\n",
    "# Set the source directory containing your images\n",
    "source_dir = 'E:/Deep learning/Project/OTHER_DATA/2/archive/food-101/food-101/images/'\n",
    "\n",
    "# Set the destination directories for train and test data\n",
    "train_dir = 'E:/Deep learning/Project/OTHER_DATA/2/archive/food-101/food-101/subset_train_v2'\n",
    "test_dir = 'E:/Deep learning/Project/OTHER_DATA/2/archive/food-101/food-101/subset_test_v2/'\n",
    "\n",
    "# Define the number of images to select for train and test\n",
    "train_count = 960\n",
    "test_count = 40\n",
    "\n",
    "classes=['garlic_bread','hot_dog','ice_cream','omelette','pizza']\n",
    "# Walk through the source directory and its subdirectories\n",
    "for root, dirs, files in os.walk(source_dir):\n",
    "    for dir in dirs:\n",
    "        if dir in classes:\n",
    "    #         Create corresponding train and test directories\n",
    "            train_subdir = os.path.join(train_dir, dir)\n",
    "            test_subdir = os.path.join(test_dir, dir)\n",
    "\n",
    "            os.makedirs(train_subdir, exist_ok=True)\n",
    "            os.makedirs(test_subdir, exist_ok=True)\n",
    "\n",
    "            # List all the image files in the source folder\n",
    "            image_files = [f for f in os.listdir(os.path.join(root, dir)) if f.lower().endswith(('.jpg', '.jpeg', '.png'))]\n",
    "\n",
    "            # Shuffle the list to randomly select images\n",
    "            random.shuffle(image_files)\n",
    "\n",
    "            # Copy images to train and test directories\n",
    "            for i, image in enumerate(image_files):\n",
    "                if i < train_count:\n",
    "                    shutil.copy(os.path.join(root, dir, image), os.path.join(train_subdir, image))\n",
    "                elif i < (train_count + test_count):\n",
    "                    shutil.copy(os.path.join(root, dir, image), os.path.join(test_subdir, image))\n"
   ]
  },
  {
   "cell_type": "code",
   "execution_count": 5,
   "id": "15e13fa4",
   "metadata": {},
   "outputs": [
    {
     "data": {
      "text/plain": [
       "['garlic_bread', 'hot_dog', 'ice_cream', 'omelette', 'pizza']"
      ]
     },
     "execution_count": 5,
     "metadata": {},
     "output_type": "execute_result"
    }
   ],
   "source": [
    "os.listdir(train_dir)"
   ]
  },
  {
   "cell_type": "code",
   "execution_count": null,
   "id": "da6c1442",
   "metadata": {},
   "outputs": [],
   "source": []
  },
  {
   "cell_type": "code",
   "execution_count": 9,
   "id": "95e02077",
   "metadata": {},
   "outputs": [
    {
     "name": "stdout",
     "output_type": "stream",
     "text": [
      "Average Red Channel Mean: 0.5560337290862908\n",
      "Average Green Channel Mean: 0.44777575681186293\n",
      "Average Blue Channel Mean: 0.3351184424341966\n",
      "Average Red Channel Standard Deviation: 0.2311316105008796\n",
      "Average Green Channel Standard Deviation: 0.24266336046968526\n",
      "Average Blue Channel Standard Deviation: 0.23866883612205464\n"
     ]
    }
   ],
   "source": [
    "import os\n",
    "import cv2\n",
    "import numpy as np\n",
    "\n",
    "# Set the source directory containing your images\n",
    "source_dir = 'E:/Deep learning/Project/OTHER_DATA/2/archive/food-101/food-101/subset_test_v2/'\n",
    "\n",
    "# Initialize variables to store running statistics\n",
    "red_channel_means = []\n",
    "green_channel_means = []\n",
    "blue_channel_means = []\n",
    "red_channel_stddevs = []\n",
    "green_channel_stddevs = []\n",
    "blue_channel_stddevs = []\n",
    "\n",
    "# Walk through the source directory and its subdirectories\n",
    "for root, dirs, files in os.walk(source_dir):\n",
    "    for dir in dirs:\n",
    "        # List all the image files in the source folder\n",
    "        image_files = [f for f in os.listdir(os.path.join(root, dir)) if f.lower().endswith(('.jpg', '.jpeg', '.png'))]\n",
    "\n",
    "        # Calculate statistics for each image\n",
    "        for image in image_files:\n",
    "            image_path = os.path.join(root, dir, image)\n",
    "            img = cv2.imread(image_path)\n",
    "            img = cv2.cvtColor(img, cv2.COLOR_BGR2RGB)  # Convert to RGB format\n",
    "            img = img / 255.0  # Normalize between 0 and 1\n",
    "\n",
    "            red_mean = np.mean(img[:, :, 0])\n",
    "            green_mean = np.mean(img[:, :, 1])\n",
    "            blue_mean = np.mean(img[:, :, 2])\n",
    "\n",
    "            red_stddev = np.std(img[:, :, 0])\n",
    "            green_stddev = np.std(img[:, :, 1])\n",
    "            blue_stddev = np.std(img[:, :, 2])\n",
    "\n",
    "            red_channel_means.append(red_mean)\n",
    "            green_channel_means.append(green_mean)\n",
    "            blue_channel_means.append(blue_mean)\n",
    "\n",
    "            red_channel_stddevs.append(red_stddev)\n",
    "            green_channel_stddevs.append(green_stddev)\n",
    "            blue_channel_stddevs.append(blue_stddev)\n",
    "\n",
    "# Calculate the average statistics for each channel\n",
    "average_red_channel_mean = np.mean(red_channel_means)\n",
    "average_green_channel_mean = np.mean(green_channel_means)\n",
    "average_blue_channel_mean = np.mean(blue_channel_means)\n",
    "\n",
    "average_red_channel_stddev = np.mean(red_channel_stddevs)\n",
    "average_green_channel_stddev = np.mean(green_channel_stddevs)\n",
    "average_blue_channel_stddev = np.mean(blue_channel_stddevs)\n",
    "\n",
    "print(\"Average Red Channel Mean:\", average_red_channel_mean)\n",
    "print(\"Average Green Channel Mean:\", average_green_channel_mean)\n",
    "print(\"Average Blue Channel Mean:\", average_blue_channel_mean)\n",
    "\n",
    "print(\"Average Red Channel Standard Deviation:\", average_red_channel_stddev)\n",
    "print(\"Average Green Channel Standard Deviation:\", average_green_channel_stddev)\n",
    "print(\"Average Blue Channel Standard Deviation:\", average_blue_channel_stddev)\n"
   ]
  },
  {
   "cell_type": "code",
   "execution_count": null,
   "id": "0c4a29c4",
   "metadata": {},
   "outputs": [],
   "source": []
  },
  {
   "cell_type": "code",
   "execution_count": null,
   "id": "c5ac4161",
   "metadata": {},
   "outputs": [],
   "source": []
  },
  {
   "cell_type": "code",
   "execution_count": null,
   "id": "c0f9ba66",
   "metadata": {},
   "outputs": [],
   "source": []
  }
 ],
 "metadata": {
  "kernelspec": {
   "display_name": "Python 3 (ipykernel)",
   "language": "python",
   "name": "python3"
  },
  "language_info": {
   "codemirror_mode": {
    "name": "ipython",
    "version": 3
   },
   "file_extension": ".py",
   "mimetype": "text/x-python",
   "name": "python",
   "nbconvert_exporter": "python",
   "pygments_lexer": "ipython3",
   "version": "3.9.18"
  }
 },
 "nbformat": 4,
 "nbformat_minor": 5
}
